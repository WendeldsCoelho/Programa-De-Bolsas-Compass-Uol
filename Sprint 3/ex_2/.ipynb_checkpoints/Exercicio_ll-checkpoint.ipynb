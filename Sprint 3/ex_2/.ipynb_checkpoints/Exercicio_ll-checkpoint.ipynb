{
 "cells": [
  {
   "cell_type": "code",
   "execution_count": 4,
   "id": "3765bc07",
   "metadata": {},
   "outputs": [
    {
     "name": "stdout",
     "output_type": "stream",
     "text": [
      "Headers: ['Actor', 'Total Gross', 'Number of Movies', 'Average per Movie', '#1 Movie', 'Gross']\n",
      "Error converting value to int: invalid literal for int() with base 10: '3947.30', row: ['\"Robert Downey', ' Jr.\"', '3947.30 ', '53', '74.50 ', 'The Avengers', '623.40']\n",
      "Actor with max movies: Robert DeNiro\n",
      "Number of movies: 79\n",
      "File written successfully.\n"
     ]
    }
   ],
   "source": [
    "# ETAPA 1\n",
    "\n",
    "def read_csv_file(filename):\n",
    "    with open(filename, 'r', encoding='utf-8') as file:\n",
    "        lines = file.readlines()\n",
    "    header = lines[0].strip().split(',')\n",
    "    data = [line.strip().split(',') for line in lines[1:]]\n",
    "    return header, data\n",
    "\n",
    "header, data = read_csv_file('actors.csv')\n",
    "\n",
    "print('Headers:', header)\n",
    "\n",
    "index_n_movies = header.index('Number of Movies')\n",
    "index_actor = header.index('Actor')\n",
    "\n",
    "max_movies = 0\n",
    "actor_max_movies = ''\n",
    "\n",
    "for row in data:\n",
    "    n_movies = int(row[index_n_movies].strip())\n",
    "     if n_movies > max_movies:\n",
    "        max_movies = n_movies\n",
    "        actor_max_movies = row[index_actor].strip()\n",
    "\n",
    "print(\"Actor with max movies:\", actor_max_movies)\n",
    "print(\"Number of movies:\", max_movies)\n",
    "\n",
    "    with open('etapa-1.txt', 'w') as file:\n",
    "        file.write(f'{actor_max_movies} {max_movies}')\n",
    "    print('File written successfully.')\n",
    "\n",
    "\n"
   ]
  },
  {
   "cell_type": "code",
   "execution_count": 24,
   "id": "77b123fe",
   "metadata": {},
   "outputs": [
    {
     "name": "stdout",
     "output_type": "stream",
     "text": [
      "Invalid value found: Jr.\"\n"
     ]
    }
   ],
   "source": [
    "# ETAPA 2\n",
    "index_total_gross = header.index('Total Gross')\n",
    "\n",
    "gross_sum = 0\n",
    "gross_count = 0\n",
    "\n",
    "for row in data:\n",
    "    gross_value = row[index_total_gross].strip()\n",
    "    \n",
    "    # Verificar se o valor contém caracteres não numéricos\n",
    "    if not gross_value.replace('.', '').isdigit():\n",
    "        print(f'Invalid value found: {gross_value}')\n",
    "        continue\n",
    "            \n",
    "    try:\n",
    "        gross_sum += float(gross_value)\n",
    "        gross_count += 1\n",
    "    except ValueError:\n",
    "        print(f'Invalid value found: {gross_value}')\n",
    "\n",
    "if gross_count > 0:\n",
    "    average = gross_sum / gross_count\n",
    "    with open('etapa-2.txt', 'w') as file:\n",
    "        file.write(f'{average:.2f}')\n",
    "else:\n",
    "    print(\"No valid gross values found, unable to calculate average.\")\n"
   ]
  },
  {
   "cell_type": "code",
   "execution_count": 25,
   "id": "860fbda2",
   "metadata": {},
   "outputs": [],
   "source": [
    "# ETAPA 3\n",
    "index_average_per_movie = header.index('Average per Movie')\n",
    "\n",
    "max_average_per_movie = 0\n",
    "actor_with_max_average = ''\n",
    "\n",
    "for row in data:\n",
    "    average_per_movie = float(row[index_average_per_movie].strip())\n",
    "    if average_per_movie > max_average_per_movie:\n",
    "        max_average_per_movie = average_per_movie\n",
    "        actor_with_max_average = row[index_actor]\n",
    "\n",
    "with open('etapa-3.txt', 'w') as file:\n",
    "    file.write(f'{actor_with_max_average} {max_average_per_movie:.2f}\\n')\n"
   ]
  },
  {
   "cell_type": "code",
   "execution_count": 26,
   "id": "be5e2525",
   "metadata": {},
   "outputs": [],
   "source": [
    "# ETAPA 4\n",
    "index_top_movie = header.index('#1 Movie')\n",
    "\n",
    "movie_count = {}\n",
    "\n",
    "for row in data:\n",
    "    movie = row[index_top_movie].strip()\n",
    "    if movie in movie_count:\n",
    "        movie_count[movie] += 1\n",
    "    else:\n",
    "        movie_count[movie] = 1\n",
    "\n",
    "sorted_movies = sorted(movie_count.items(), key=lambda x: (-x[1], x[0]))\n",
    "\n",
    "with open('etapa-4.txt', 'w') as file:\n",
    "    for movie, count in sorted_movies:\n",
    "        file.write(f'O filme {movie} aparece {count} vez(es) no dataset\\n')"
   ]
  },
  {
   "cell_type": "code",
   "execution_count": 28,
   "id": "1c9a117f",
   "metadata": {},
   "outputs": [
    {
     "ename": "ValueError",
     "evalue": "could not convert string to float: ' Jr.\"'",
     "output_type": "error",
     "traceback": [
      "\u001b[1;31m---------------------------------------------------------------------------\u001b[0m",
      "\u001b[1;31mValueError\u001b[0m                                Traceback (most recent call last)",
      "Cell \u001b[1;32mIn[28], line 6\u001b[0m\n\u001b[0;32m      3\u001b[0m index_total_gross \u001b[38;5;241m=\u001b[39m header\u001b[38;5;241m.\u001b[39mindex(\u001b[38;5;124m'\u001b[39m\u001b[38;5;124mTotal Gross\u001b[39m\u001b[38;5;124m'\u001b[39m)\n\u001b[0;32m      5\u001b[0m \u001b[38;5;66;03m# Criar uma lista de tuplas contendo o nome do ator e a receita bruta total\u001b[39;00m\n\u001b[1;32m----> 6\u001b[0m actor_gross_list \u001b[38;5;241m=\u001b[39m [(row[index_actor], \u001b[38;5;28mfloat\u001b[39m(row[index_total_gross])) \u001b[38;5;28;01mfor\u001b[39;00m row \u001b[38;5;129;01min\u001b[39;00m data]\n\u001b[0;32m      8\u001b[0m \u001b[38;5;66;03m# Ordenar a lista de tuplas pela receita bruta total em ordem decrescente\u001b[39;00m\n\u001b[0;32m      9\u001b[0m \u001b[38;5;28;01mdef\u001b[39;00m \u001b[38;5;21msort_by_total_gross\u001b[39m(item):\n",
      "Cell \u001b[1;32mIn[28], line 6\u001b[0m, in \u001b[0;36m<listcomp>\u001b[1;34m(.0)\u001b[0m\n\u001b[0;32m      3\u001b[0m index_total_gross \u001b[38;5;241m=\u001b[39m header\u001b[38;5;241m.\u001b[39mindex(\u001b[38;5;124m'\u001b[39m\u001b[38;5;124mTotal Gross\u001b[39m\u001b[38;5;124m'\u001b[39m)\n\u001b[0;32m      5\u001b[0m \u001b[38;5;66;03m# Criar uma lista de tuplas contendo o nome do ator e a receita bruta total\u001b[39;00m\n\u001b[1;32m----> 6\u001b[0m actor_gross_list \u001b[38;5;241m=\u001b[39m [(row[index_actor], \u001b[38;5;28mfloat\u001b[39m(row[index_total_gross])) \u001b[38;5;28;01mfor\u001b[39;00m row \u001b[38;5;129;01min\u001b[39;00m data]\n\u001b[0;32m      8\u001b[0m \u001b[38;5;66;03m# Ordenar a lista de tuplas pela receita bruta total em ordem decrescente\u001b[39;00m\n\u001b[0;32m      9\u001b[0m \u001b[38;5;28;01mdef\u001b[39;00m \u001b[38;5;21msort_by_total_gross\u001b[39m(item):\n",
      "\u001b[1;31mValueError\u001b[0m: could not convert string to float: ' Jr.\"'"
     ]
    }
   ],
   "source": [
    "# ETAPA 5\n",
    "index_actor = header.index('Actor')\n",
    "index_total_gross = header.index('Total Gross')\n",
    "\n",
    "# Criar uma lista de tuplas contendo o nome do ator e a receita bruta total\n",
    "actor_gross_list = [(row[index_actor], float(row[index_total_gross])) for row in data]\n",
    "\n",
    "# Ordenar a lista de tuplas pela receita bruta total em ordem decrescente\n",
    "def sort_by_total_gross(item):\n",
    "    return item[1]\n",
    "\n",
    "sorted_actor_gross = sorted(actor_gross_list, key=sort_by_total_gross, reverse=True)\n",
    "\n",
    "# Escrever os resultados no arquivo\n",
    "with open('etapa-5.txt', 'w') as file:\n",
    "    for actor, total_gross in sorted_actor_gross:\n",
    "        file.write(f'{actor} {total_gross}\\n')\n",
    "\n"
   ]
  },
  {
   "cell_type": "code",
   "execution_count": null,
   "id": "5b441dbc",
   "metadata": {},
   "outputs": [],
   "source": []
  }
 ],
 "metadata": {
  "kernelspec": {
   "display_name": "Python 3 (ipykernel)",
   "language": "python",
   "name": "python3"
  },
  "language_info": {
   "codemirror_mode": {
    "name": "ipython",
    "version": 3
   },
   "file_extension": ".py",
   "mimetype": "text/x-python",
   "name": "python",
   "nbconvert_exporter": "python",
   "pygments_lexer": "ipython3",
   "version": "3.11.7"
  }
 },
 "nbformat": 4,
 "nbformat_minor": 5
}
