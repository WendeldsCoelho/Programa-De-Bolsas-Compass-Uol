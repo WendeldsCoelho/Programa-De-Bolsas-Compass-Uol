{
 "cells": [
  {
   "cell_type": "code",
   "execution_count": 37,
   "id": "3765bc07",
   "metadata": {},
   "outputs": [
    {
     "name": "stdout",
     "output_type": "stream",
     "text": [
      "Headers: ['Actor', 'Total Gross', 'Number of Movies', 'Average per Movie', '#1 Movie', 'Gross']\n",
      "Actor with max movies: Robert DeNiro\n",
      "Number of movies: 79\n",
      "File written successfully.\n"
     ]
    }
   ],
   "source": [
    "# ETAPA 1\n",
    "\n",
    "def read_csv_file(filename):\n",
    "    with open(filename, 'r', encoding='utf-8') as file:\n",
    "        lines = file.readlines()\n",
    "    header = lines[0].strip().split(',')\n",
    "    data = [line.strip().split(',') for line in lines[1:]]\n",
    "    return header, data\n",
    "\n",
    "header, data = read_csv_file('actors.csv')\n",
    "\n",
    "print('Headers:', header)\n",
    "\n",
    "index_n_movies = header.index('Number of Movies')\n",
    "index_actor = header.index('Actor')\n",
    "\n",
    "max_movies = 0\n",
    "actor_max_movies = ''\n",
    "\n",
    "for row in data:\n",
    "    n_movies = int(row[index_n_movies].strip())\n",
    "    if n_movies > max_movies:\n",
    "        max_movies = n_movies\n",
    "        actor_max_movies = row[index_actor].strip()\n",
    "\n",
    "print(\"Actor with max movies:\", actor_max_movies)\n",
    "print(\"Number of movies:\", max_movies)\n",
    "\n",
    "with open('etapa-1.txt', 'w') as file:\n",
    "    file.write(f'{actor_max_movies} {max_movies}')\n",
    "    print('File written successfully.')\n",
    "\n",
    "\n"
   ]
  },
  {
   "cell_type": "code",
   "execution_count": 38,
   "id": "77b123fe",
   "metadata": {},
   "outputs": [],
   "source": [
    "# ETAPA 2\n",
    "index_total_gross = header.index('Total Gross')\n",
    "\n",
    "gross_sum = 0\n",
    "gross_count = 0\n",
    "\n",
    "for row in data:\n",
    "    gross_value = row[index_total_gross].strip()\n",
    "    \n",
    "    # Verificar se o valor contém caracteres não numéricos\n",
    "    if not gross_value.replace('.', '').isdigit():\n",
    "        print(f'Invalid value found: {gross_value}')\n",
    "        continue\n",
    "            \n",
    "    try:\n",
    "        gross_sum += float(gross_value)\n",
    "        gross_count += 1\n",
    "    except ValueError:\n",
    "        print(f'Invalid value found: {gross_value}')\n",
    "\n",
    "if gross_count > 0:\n",
    "    average = gross_sum / gross_count\n",
    "    with open('etapa-2.txt', 'w') as file:\n",
    "        file.write(f'{average:.2f}')\n",
    "else:\n",
    "    print(\"No valid gross values found, unable to calculate average.\")\n"
   ]
  },
  {
   "cell_type": "code",
   "execution_count": 39,
   "id": "860fbda2",
   "metadata": {},
   "outputs": [],
   "source": [
    "# ETAPA 3\n",
    "index_average_per_movie = header.index('Average per Movie')\n",
    "\n",
    "max_average_per_movie = 0\n",
    "actor_max_average = ''\n",
    "\n",
    "for row in data:\n",
    "    average_per_movie = float(row[index_average_per_movie].strip())\n",
    "    if average_per_movie > max_average_per_movie:\n",
    "        max_average_per_movie = average_per_movie\n",
    "        actor_max_average = row[index_actor]\n",
    "\n",
    "with open('etapa-3.txt', 'w') as file:\n",
    "    file.write(f'{actor_max_average} {max_average_per_movie:.2f}\\n')\n"
   ]
  },
  {
   "cell_type": "code",
   "execution_count": 40,
   "id": "be5e2525",
   "metadata": {},
   "outputs": [],
   "source": [
    "# ETAPA 4\n",
    "def sort_movies(item):\n",
    "    title, count = item\n",
    "    return (-count, title)\n",
    "\n",
    "index_top_movie = header.index('#1 Movie')\n",
    "\n",
    "movie_count = {}\n",
    "\n",
    "for row in data:\n",
    "    movie = row[index_top_movie].strip()\n",
    "    if movie in movie_count:\n",
    "        movie_count[movie] += 1\n",
    "    else:\n",
    "        movie_count[movie] = 1\n",
    "\n",
    "sorted_movies = sorted(movie_count.items(), key=sort_movies)\n",
    "\n",
    "with open('etapa-4.txt', 'w') as file:\n",
    "    for movie, count in sorted_movies:\n",
    "        file.write(f'O filme {movie} aparece {count} vez(es) no dataset\\n')\n"
   ]
  },
  {
   "cell_type": "code",
   "execution_count": 41,
   "id": "1c9a117f",
   "metadata": {},
   "outputs": [],
   "source": [
    "# ETAPA 5\n",
    "index_actor = header.index('Actor')\n",
    "index_total_gross = header.index('Total Gross')\n",
    "\n",
    "actor_gross_list = [(row[index_actor], float(row[index_total_gross])) for row in data]\n",
    "\n",
    "def sort_by_total_gross(item):\n",
    "    return item[1]\n",
    "\n",
    "sorted_actor_gross = sorted(actor_gross_list, key=sort_by_total_gross, reverse=True)\n",
    "\n",
    "with open('etapa-5.txt', 'w') as file:\n",
    "    for actor, total_gross in sorted_actor_gross:\n",
    "        file.write(f'{actor} {total_gross}\\n')\n",
    "\n"
   ]
  },
  {
   "cell_type": "code",
   "execution_count": null,
   "id": "5b441dbc",
   "metadata": {},
   "outputs": [],
   "source": []
  }
 ],
 "metadata": {
  "kernelspec": {
   "display_name": "Python 3 (ipykernel)",
   "language": "python",
   "name": "python3"
  },
  "language_info": {
   "codemirror_mode": {
    "name": "ipython",
    "version": 3
   },
   "file_extension": ".py",
   "mimetype": "text/x-python",
   "name": "python",
   "nbconvert_exporter": "python",
   "pygments_lexer": "ipython3",
   "version": "3.11.7"
  }
 },
 "nbformat": 4,
 "nbformat_minor": 5
}
